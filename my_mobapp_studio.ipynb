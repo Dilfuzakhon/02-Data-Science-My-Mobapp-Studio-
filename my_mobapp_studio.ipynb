{
 "cells": [
  {
   "cell_type": "code",
   "execution_count": null,
   "metadata": {},
   "outputs": [],
   "source": [
    "import pandas as pd\n",
    "import numpy as np\n",
    "import matplotlib.pyplot as plt\n",
    "import plotly.express as px"
   ]
  },
  {
   "cell_type": "code",
   "execution_count": 4,
   "metadata": {},
   "outputs": [],
   "source": [
    "def load_dataset():\n",
    "    df = pd.read_csv(\"/content/googleplaystore.csv\")\n",
    "    return df"
   ]
  },
  {
   "cell_type": "code",
   "execution_count": null,
   "metadata": {},
   "outputs": [],
   "source": [
    "apps = load_dataset()\n",
    "apps"
   ]
  },
  {
   "cell_type": "code",
   "execution_count": null,
   "metadata": {},
   "outputs": [],
   "source": [
    "def print_summarize_df(dataset):\n",
    "    print(\"This is information about dataset\")\n",
    "    print(dataset.info())\n",
    "    print(\"This is statistic information about dataset\")\n",
    "    print(dataset.describe())\n",
    "    print(\"This is shape of dataset\")\n",
    "    print(dataset.shape)\n",
    "print_summarize_df(apps)"
   ]
  },
  {
   "cell_type": "code",
   "execution_count": null,
   "metadata": {},
   "outputs": [],
   "source": [
    "def clean_category(row):\n",
    "  row = row.replace(\"and\", \"&\").replace(\"And\", \"&\")\n",
    "  return row"
   ]
  },
  {
   "cell_type": "code",
   "execution_count": null,
   "metadata": {},
   "outputs": [],
   "source": [
    "def clean_installs(x):\n",
    "    x = str(x)\n",
    "    x = x.replace(\"+\", \"\").replace(\",\", \"\").replace(\"Free\", \"0\").replace(\".\", \"\")\n",
    "    return int(x)"
   ]
  },
  {
   "cell_type": "code",
   "execution_count": null,
   "metadata": {},
   "outputs": [],
   "source": [
    "def clean_price(x):\n",
    "    x = str(x)\n",
    "    x = x.replace(\"$\", \"0\").replace(\"Everyone\", \"0\")\n",
    "    return float(x)"
   ]
  },
  {
   "cell_type": "code",
   "execution_count": null,
   "metadata": {},
   "outputs": [],
   "source": [
    "def clean_genres(x):\n",
    "    x = str(x)\n",
    "    x = x.replace(\"&\", \"-\").replace(\";\", \" \")\n",
    "    return x"
   ]
  },
  {
   "cell_type": "code",
   "execution_count": null,
   "metadata": {},
   "outputs": [],
   "source": [
    "def clean_reviews(x):\n",
    "    x = str(x)\n",
    "    x = x.replace(\"M\", \"000000\")\n",
    "    return float(x)"
   ]
  },
  {
   "cell_type": "code",
   "execution_count": null,
   "metadata": {},
   "outputs": [],
   "source": [
    "def clean_type(x):\n",
    "    x = str(x)\n",
    "    x = x.replace(\"nan\", \"Free\").replace(\"0\", \"Free\")\n",
    "    return x"
   ]
  },
  {
   "cell_type": "code",
   "execution_count": null,
   "metadata": {},
   "outputs": [],
   "source": [
    "def remove_M(x):\n",
    "    return str(x).replace(\"M\", \"\")"
   ]
  },
  {
   "cell_type": "code",
   "execution_count": null,
   "metadata": {},
   "outputs": [],
   "source": [
    "def remove_plus(x):\n",
    "    return str(x).replace(\"+\", \"\")"
   ]
  },
  {
   "cell_type": "code",
   "execution_count": null,
   "metadata": {},
   "outputs": [],
   "source": [
    "def remove_comma(x):\n",
    "    return str(x).replace(\",\", \"\")"
   ]
  },
  {
   "cell_type": "code",
   "execution_count": null,
   "metadata": {},
   "outputs": [],
   "source": [
    "def replace_varies(x):\n",
    "    return \"0\" if x == \"Varies with device\" else x"
   ]
  },
  {
   "cell_type": "code",
   "execution_count": null,
   "metadata": {},
   "outputs": [],
   "source": [
    "def clean_dataset(dataset):\n",
    "    try:\n",
    "        dataset.drop(['Current Ver', 'Android Ver', 'Last Updated'], axis=1, inplace=True)\n",
    "    except:\n",
    "        pass\n",
    "    dataset[\"App\"] = dataset[\"App\"].str.title()\n",
    "    dataset[\"Category\"] = dataset[\"Category\"].str.title().str.replace(r'[_]', ' ', regex=True)\n",
    "    dataset[\"Category\"] = dataset[\"Category\"].apply(clean_category)\n",
    "    dataset[\"Reviews\"] = dataset[\"Reviews\"].apply(clean_reviews)\n",
    "    dataset[\"Type\"] = dataset[\"Type\"].apply(clean_type)\n",
    "    dataset[\"Installs\"] = dataset[\"Installs\"].apply(clean_installs)\n",
    "    dataset[\"Price\"] = dataset[\"Price\"].astype(str).apply(clean_price)\n",
    "    dataset[\"Genres\"] = dataset[\"Genres\"].apply(clean_genres)\n",
    "    dataset['Size'] = dataset['Size'].apply(remove_M)\n",
    "    dataset['Size'] = dataset['Size'].apply(remove_plus)\n",
    "    dataset['Size'] = dataset['Size'].apply(remove_comma)\n",
    "    dataset['Size'] = dataset['Size'].apply(replace_varies)\n",
    "    for i, size in dataset['Size'].items():\n",
    "        if size.endswith(\"k\"):\n",
    "            dataset.loc[i, 'Size'] = float(size[:-1]) / 1024\n",
    "        elif size.endswith(\"M\"):\n",
    "            dataset.loc[i, 'Size'] = float(size[:-1])\n",
    "        else:\n",
    "            dataset.loc[i, 'Size'] = float(size)\n",
    "    dataset['Size'] = dataset['Size'].astype(int)        \n",
    "    return dataset\n"
   ]
  },
  {
   "cell_type": "code",
   "execution_count": null,
   "metadata": {},
   "outputs": [],
   "source": [
    "clean_dataset(apps)\n",
    "cleaned_apps = clean_dataset(apps)"
   ]
  },
  {
   "cell_type": "code",
   "execution_count": null,
   "metadata": {},
   "outputs": [],
   "source": [
    "cleaned_apps"
   ]
  },
  {
   "cell_type": "code",
   "execution_count": null,
   "metadata": {},
   "outputs": [],
   "source": [
    "def print_summarize_dataset(dataset):\n",
    "    print(\"This is information about dataset\")\n",
    "    print(dataset.info())\n",
    "    print(\"This is statistic information about dataset\")\n",
    "    print(dataset.describe())\n",
    "    print(\"This is shape of dataset\")\n",
    "    print(dataset.shape)\n",
    "print_summarize_dataset(cleaned_apps)"
   ]
  },
  {
   "cell_type": "code",
   "execution_count": null,
   "metadata": {},
   "outputs": [],
   "source": [
    "def print_histograms(dataset):\n",
    "    bar= px.histogram(dataset, x = \"Category\", color = \"Type\",barmode = \"group\")\n",
    "    bar.show()\n",
    "print_histograms(cleaned_apps)    "
   ]
  },
  {
   "cell_type": "code",
   "execution_count": null,
   "metadata": {},
   "outputs": [],
   "source": [
    "def compute_correlation_matrix(dataset):\n",
    "  fig = px.imshow(dataset.select_dtypes(np.number).corr(),text_auto = True)\n",
    "  fig.show()\n",
    "compute_correlation_matrix(cleaned_apps)  "
   ]
  },
  {
   "cell_type": "code",
   "execution_count": null,
   "metadata": {},
   "outputs": [],
   "source": [
    "def print_scatter_matrix():\n",
    "    pd.plotting.scatter_matrix(cleaned_apps)\n",
    "print_scatter_matrix()   "
   ]
  },
  {
   "cell_type": "code",
   "execution_count": null,
   "metadata": {},
   "outputs": [],
   "source": [
    "family_category = cleaned_apps[(cleaned_apps['Category'] == \"Family\") & (cleaned_apps['Type'] != \"Free\")]\n",
    "family_paid = family_category.sort_values(by=\"Installs\", ascending=False).reset_index(drop=True)\n",
    "top_10 = family_paid.head(10)\n",
    "fig = px.bar(top_10, x='App', y='Installs', color='App', title='The most populars paid apps of Family category')\n",
    "fig.show()"
   ]
  },
  {
   "cell_type": "code",
   "execution_count": null,
   "metadata": {},
   "outputs": [],
   "source": [
    "fig = px.pie(top_10, names='Genres', values='Installs', color='Genres', title='The most popular genres according to the number of installations from paid family')\n",
    "fig.show()"
   ]
  },
  {
   "cell_type": "code",
   "execution_count": null,
   "metadata": {},
   "outputs": [],
   "source": [
    "installation_per_category = cleaned_apps.groupby(by=\"Category\").sum()\n",
    "installation_per_category_top_10 = installation_per_category.sort_values(by = \"Installs\", ascending = False).head(10)\n",
    "figure = px.pie(installation_per_category_top_10, names = installation_per_category_top_10.index, values ='Installs', color = installation_per_category_top_10.index, title='The number of installation per category')\n",
    "figure.show()"
   ]
  },
  {
   "cell_type": "code",
   "execution_count": null,
   "metadata": {},
   "outputs": [],
   "source": [
    "installation_per_category_top_10"
   ]
  },
  {
   "cell_type": "code",
   "execution_count": null,
   "metadata": {},
   "outputs": [],
   "source": [
    "mean_price=cleaned_apps.groupby('Category')['Price'].mean().dropna().reset_index().sort_values(by='Price',ascending=False)\n",
    "fig = px.bar(mean_price, x=mean_price['Category'], y='Price', color=mean_price['Category'], title='The mean price per category')\n",
    "fig.show()"
   ]
  },
  {
   "cell_type": "code",
   "execution_count": null,
   "metadata": {},
   "outputs": [],
   "source": [
    "expensive_apps = cleaned_apps[cleaned_apps['Type'] != \"Free\"].sort_values(by='Price', ascending=False).head(20)\n",
    "fig = px.bar(expensive_apps, x='App', y='Price', color='Category', title=\"Most expensive apps per category\")\n",
    "fig.show()"
   ]
  },
  {
   "cell_type": "code",
   "execution_count": null,
   "metadata": {},
   "outputs": [],
   "source": []
  }
 ],
 "metadata": {
  "kernelspec": {
   "display_name": "Python 3",
   "language": "python",
   "name": "python3"
  },
  "language_info": {
   "codemirror_mode": {
    "name": "ipython",
    "version": 3
   },
   "file_extension": ".py",
   "mimetype": "text/x-python",
   "name": "python",
   "nbconvert_exporter": "python",
   "pygments_lexer": "ipython3",
   "version": "3.12.0"
  },
  "orig_nbformat": 4
 },
 "nbformat": 4,
 "nbformat_minor": 2
}
